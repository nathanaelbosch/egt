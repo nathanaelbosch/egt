{
 "cells": [
  {
   "cell_type": "code",
   "execution_count": 1,
   "metadata": {},
   "outputs": [],
   "source": [
    "%load_ext Cython"
   ]
  },
  {
   "cell_type": "code",
   "execution_count": 2,
   "metadata": {},
   "outputs": [],
   "source": [
    "%%cython\n",
    "\n",
    "import numpy as np\n",
    "cimport numpy as np\n",
    "import cython"
   ]
  },
  {
   "cell_type": "code",
   "execution_count": 3,
   "metadata": {},
   "outputs": [],
   "source": [
    "# Situation setup\n",
    "def f(x):\n",
    "    return (x**2) - 0.8 * np.cos(30*x)\n",
    "\n",
    "U_interval = (-1, 1)\n",
    "n_strategies = 100\n",
    "U = np.concatenate((\n",
    "    np.linspace(\n",
    "        U_interval[0], 0, n_strategies//2, endpoint=False),\n",
    "    np.linspace(\n",
    "        0, U_interval[1], n_strategies//2 + 1, endpoint=True))\n",
    ")[:, None]\n",
    "\n",
    "point_interval = (-10, 10)\n",
    "n_points = 200\n",
    "points = np.random.uniform(\n",
    "    point_interval[0], point_interval[1], n_points)\n",
    "N = len(points)\n",
    "d = len(points[0]) if isinstance(points[0], tuple) else 1\n",
    "locations = np.array(points).reshape(N, d)\n",
    "\n",
    "alpha = 2"
   ]
  },
  {
   "cell_type": "code",
   "execution_count": 4,
   "metadata": {},
   "outputs": [],
   "source": [
    "# Original code\n",
    "def original_naive(x, u, x2):\n",
    "    if x==x2:\n",
    "        if u==0:\n",
    "            return 1\n",
    "        else:\n",
    "            return 0\n",
    "\n",
    "    with np.errstate(divide='ignore'):\n",
    "        out = np.exp(\n",
    "            -((u - (max(0, np.tanh(3*(f(x) - f(x2)))) *\n",
    "                    (x2 - x)))**2) /\n",
    "            (np.abs(x-x2) ** alpha))\n",
    "\n",
    "    return out"
   ]
  },
  {
   "cell_type": "code",
   "execution_count": 5,
   "metadata": {},
   "outputs": [
    {
     "name": "stdout",
     "output_type": "stream",
     "text": [
      "41 µs ± 968 ns per loop (mean ± std. dev. of 7 runs, 10000 loops each)\n"
     ]
    }
   ],
   "source": [
    "%%timeit\n",
    "original_naive(locations[0], U[0], locations[1])"
   ]
  },
  {
   "cell_type": "code",
   "execution_count": 6,
   "metadata": {},
   "outputs": [],
   "source": [
    "%%cython\n",
    "import numpy as np\n",
    "# Original code but compiled\n",
    "def f(x):\n",
    "    return (x**2) - 0.8 * np.cos(30*x)\n",
    "alpha = 2\n",
    "def original_compiled_naive(x, u, x2):\n",
    "    if x==x2:\n",
    "        if u==0:\n",
    "            return 1\n",
    "        else:\n",
    "            return 0\n",
    "\n",
    "    with np.errstate(divide='ignore'):\n",
    "        out = np.exp(\n",
    "            -((u - (max(0, np.tanh(3*(f(x) - f(x2)))) *\n",
    "                    (x2 - x)))**2) /\n",
    "            (np.abs(x-x2) ** alpha))\n",
    "\n",
    "    return out"
   ]
  },
  {
   "cell_type": "code",
   "execution_count": 7,
   "metadata": {},
   "outputs": [
    {
     "name": "stdout",
     "output_type": "stream",
     "text": [
      "38 µs ± 357 ns per loop (mean ± std. dev. of 7 runs, 10000 loops each)\n"
     ]
    }
   ],
   "source": [
    "%%timeit\n",
    "original_compiled_naive(locations[0], U[0], locations[1])"
   ]
  },
  {
   "cell_type": "code",
   "execution_count": 8,
   "metadata": {},
   "outputs": [],
   "source": [
    "%%cython\n",
    "from libc.math cimport cos, exp, tanh, fabs, fmax\n",
    "\n",
    "import numpy as np\n",
    "cimport numpy as np\n",
    "\n",
    "DTYPE = np.float64\n",
    "ctypedef np.float64_t DTYPE_t\n",
    "\n",
    "# Original code but compiled\n",
    "cdef DTYPE_t f(DTYPE_t x):\n",
    "    return (x**2) - 0.8 * cos(30*x)\n",
    "cdef int alpha = 2\n",
    "\n",
    "cpdef DTYPE_t cython_naive(DTYPE_t x, DTYPE_t u, DTYPE_t x2):\n",
    "    if x==x2:\n",
    "        if u==0:\n",
    "            return 1\n",
    "        else:\n",
    "            return 0\n",
    "\n",
    "    out = exp(\n",
    "        -((u - (fmax(0, tanh(3*(f(x) - f(x2)))) * (x2 - x)))**2) /\n",
    "        (fabs(x-x2) ** alpha))\n",
    "\n",
    "    return out"
   ]
  },
  {
   "cell_type": "code",
   "execution_count": 9,
   "metadata": {},
   "outputs": [
    {
     "name": "stdout",
     "output_type": "stream",
     "text": [
      "738 ns ± 4.17 ns per loop (mean ± std. dev. of 7 runs, 1000000 loops each)\n"
     ]
    }
   ],
   "source": [
    "%%timeit\n",
    "cython_naive(locations[0], U[0], locations[1])"
   ]
  },
  {
   "cell_type": "markdown",
   "metadata": {},
   "source": [
    "Now for the looping of the above function"
   ]
  },
  {
   "cell_type": "code",
   "execution_count": 32,
   "metadata": {},
   "outputs": [],
   "source": [
    "%%cython --compile-args=-fopenmp --compile-args=-O3 --link-args=-fopenmp\n",
    "from libc.math cimport cos, exp, tanh, fabs, fmax\n",
    " \n",
    "import cython\n",
    "import numpy as np\n",
    "cimport numpy as np\n",
    "from cython.parallel import prange\n",
    "\n",
    "DTYPE = np.float64\n",
    "ctypedef np.float64_t DTYPE_t\n",
    "\n",
    "# Original code but compiled\n",
    "cpdef DTYPE_t f(DTYPE_t x) nogil:\n",
    "    return (x**2) - 0.8 * cos(30*x)\n",
    "\n",
    "cdef int alpha = 2\n",
    "\n",
    "\n",
    "@cython.cdivision(True)\n",
    "cdef DTYPE_t cython_naive(DTYPE_t x, DTYPE_t u, DTYPE_t x2) nogil:\n",
    "    if x==x2:\n",
    "        if u==0:\n",
    "            return 1\n",
    "        else:\n",
    "            return 0\n",
    "    cdef DTYPE_t out\n",
    "    out = exp(\n",
    "        -((u - (fmax(0, tanh(3*(f(x) - f(x2)))) * (x2 - x)))**2) /\n",
    "        (fabs(x-x2) ** alpha))\n",
    "    \n",
    "    return out\n",
    "\n",
    "\n",
    "@cython.boundscheck(False)\n",
    "@cython.wraparound(False)\n",
    "cpdef DTYPE_t [:,:,:] vectorized(DTYPE_t [:] locations, DTYPE_t [:] U):\n",
    "    cdef int N = locations.shape[0]\n",
    "    cdef int d = locations.shape[1]\n",
    "    cdef int i, j, k\n",
    "    cdef int U_number = U.shape[0]\n",
    "    #assert d == 1, \"Multi dimensional not implemented yet\"\n",
    "    #locations = locations.flatten()\n",
    "    #U = U.flatten()\n",
    "    \n",
    "    cdef DTYPE_t [:,:,:] out = np.empty((N, N, U.shape[0]))\n",
    "    #cdef DTYPE_t out[N][N][U_number]\n",
    "\n",
    "    for k in prange(U_number, nogil=True):\n",
    "        for i in range(N):\n",
    "            for j in range(N):\n",
    "                out[i, j, k] = cython_naive(\n",
    "                    locations[i], U[k], locations[j])\n",
    "    return out"
   ]
  },
  {
   "cell_type": "code",
   "execution_count": 33,
   "metadata": {},
   "outputs": [
    {
     "name": "stdout",
     "output_type": "stream",
     "text": [
      "189 ms ± 2.07 ms per loop (mean ± std. dev. of 7 runs, 1 loop each)\n"
     ]
    }
   ],
   "source": [
    "%%timeit\n",
    "vectorized(locations.flatten(), U.flatten())"
   ]
  },
  {
   "cell_type": "markdown",
   "metadata": {},
   "source": [
    "Reference: My vectorized implementation"
   ]
  },
  {
   "cell_type": "code",
   "execution_count": 30,
   "metadata": {},
   "outputs": [],
   "source": [
    "def _vectorized(locations, U):\n",
    "        \"\"\"Idea: generate a whole NxNx#Strategies tensor with the values of J\n",
    "\n",
    "        This one is actually used for computations.\n",
    "\n",
    "        axis=0 the point to evaluate\n",
    "        axis=1 the point to compare to\n",
    "        axis=2 are the strategies\n",
    "        \"\"\"\n",
    "        N, d = locations.shape\n",
    "\n",
    "        f_vals = f(locations)\n",
    "        assert len(f_vals) == N, 'f is not suited for higher-dimensional stuff'\n",
    "        f_vals = f_vals.flatten()\n",
    "        f_diffs = np.tile(f_vals, reps=(N, 1)).T - np.tile(f_vals, reps=(N, 1))\n",
    "        f_diffs_tanh = np.tanh(3*f_diffs)\n",
    "        f_diffs_tanh_positive = np.where(\n",
    "            f_diffs_tanh > 0,\n",
    "            f_diffs_tanh,\n",
    "            0)\n",
    "        # f_diffs_tanh_positive = sigmoid(100*f_diffs)\n",
    "\n",
    "        # Walk dirs should be a NxNxd array, containing xj-xi at location [i, j, :]\n",
    "        walk_dirs = (np.tile(locations[None, :, :], (N, 1, 1)) -\n",
    "                     np.tile(locations[:, None, :], (1, N, 1)))\n",
    "\n",
    "        walk_dirs_adj = f_diffs_tanh_positive[:, :, None] * walk_dirs\n",
    "\n",
    "        ##############################################################\n",
    "        # Multi dimensionality does not yet work, starting from here #\n",
    "        ##############################################################\n",
    "        walk_dirs_adj = walk_dirs_adj.reshape(N, N)\n",
    "        walk_dirs = walk_dirs.reshape(N, N)\n",
    "        variance = (np.abs(walk_dirs) ** alpha +\n",
    "                    np.abs(f_diffs) ** alpha)\n",
    "        # variance = (np.abs(walk_dirs) ** self.alpha)\n",
    "\n",
    "        # Make things stable for x=x2\n",
    "        problems = np.array([\n",
    "            [np.all(locations[i] == locations[j]) for j in range(N)]\n",
    "            for i in range(N)])\n",
    "        variance[problems] = 1\n",
    "\n",
    "        upper_side = (U.flatten()[None, None, :] -\n",
    "                      walk_dirs_adj[:, :, None]) ** 2\n",
    "\n",
    "        out = np.exp(-1 * upper_side / variance[:, :, None])\n",
    "\n",
    "        # Set the \"problems\" to the values they should contain (by analysis of J)\n",
    "        out[problems] = 0\n",
    "        standing_index = np.where(U==0)[0][0]\n",
    "        out[problems, standing_index] = 1\n",
    "\n",
    "        return out"
   ]
  },
  {
   "cell_type": "code",
   "execution_count": 31,
   "metadata": {},
   "outputs": [
    {
     "name": "stdout",
     "output_type": "stream",
     "text": [
      "430 ms ± 2.99 ms per loop (mean ± std. dev. of 7 runs, 1 loop each)\n"
     ]
    }
   ],
   "source": [
    "%%timeit\n",
    "_vectorized(locations, U)"
   ]
  },
  {
   "cell_type": "code",
   "execution_count": null,
   "metadata": {},
   "outputs": [],
   "source": []
  }
 ],
 "metadata": {
  "kernelspec": {
   "display_name": "Python 3",
   "language": "python",
   "name": "python3"
  },
  "language_info": {
   "codemirror_mode": {
    "name": "ipython",
    "version": 3
   },
   "file_extension": ".py",
   "mimetype": "text/x-python",
   "name": "python",
   "nbconvert_exporter": "python",
   "pygments_lexer": "ipython3",
   "version": "3.6.6"
  }
 },
 "nbformat": 4,
 "nbformat_minor": 2
}
